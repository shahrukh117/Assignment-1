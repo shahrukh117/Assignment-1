{
 "cells": [
  {
   "cell_type": "markdown",
   "id": "7c8599f9-0548-4da2-9277-10b4e77cb039",
   "metadata": {},
   "source": [
    "### Q1. Create one variable containing following type of data "
   ]
  },
  {
   "cell_type": "code",
   "execution_count": 2,
   "id": "0af296f0-9276-4e77-992f-7942f78d3a18",
   "metadata": {},
   "outputs": [
    {
     "data": {
      "text/plain": [
       "'Shahrukh'"
      ]
     },
     "execution_count": 2,
     "metadata": {},
     "output_type": "execute_result"
    }
   ],
   "source": [
    "#(1) string\n",
    "\"Shahrukh\""
   ]
  },
  {
   "cell_type": "code",
   "execution_count": 3,
   "id": "d73c633a-c425-4735-9e73-32ea2fe34c2f",
   "metadata": {},
   "outputs": [],
   "source": [
    "#(2) list\n",
    "l = [2,4,5, \"pwskills\", 34.45, True]"
   ]
  },
  {
   "cell_type": "code",
   "execution_count": 4,
   "id": "4382cc2d-faff-464a-8bb3-5fd46c7d76bf",
   "metadata": {},
   "outputs": [
    {
     "data": {
      "text/plain": [
       "[2, 4, 5, 'pwskills', 34.45, True]"
      ]
     },
     "execution_count": 4,
     "metadata": {},
     "output_type": "execute_result"
    }
   ],
   "source": [
    "l"
   ]
  },
  {
   "cell_type": "code",
   "execution_count": 6,
   "id": "ae1ea6d2-a145-45bd-ad2e-149721eb8936",
   "metadata": {},
   "outputs": [
    {
     "data": {
      "text/plain": [
       "345.56"
      ]
     },
     "execution_count": 6,
     "metadata": {},
     "output_type": "execute_result"
    }
   ],
   "source": [
    "#(3)float\n",
    "345.56"
   ]
  },
  {
   "cell_type": "code",
   "execution_count": 7,
   "id": "d66f3198-c82f-4a71-bee3-19855ee729fa",
   "metadata": {},
   "outputs": [],
   "source": [
    "#(4)tupie\n",
    "t = (10,40,70)"
   ]
  },
  {
   "cell_type": "code",
   "execution_count": 8,
   "id": "e75ae290-b2d7-483e-8c8d-6c4074a441ea",
   "metadata": {},
   "outputs": [
    {
     "data": {
      "text/plain": [
       "(10, 40, 70)"
      ]
     },
     "execution_count": 8,
     "metadata": {},
     "output_type": "execute_result"
    }
   ],
   "source": [
    "t"
   ]
  },
  {
   "cell_type": "markdown",
   "id": "3c1311ba-8840-4a2f-9db5-5513d3e868f9",
   "metadata": {},
   "source": [
    "### Q2. Given are some following variables containing data:\n",
    "\n",
    "### What will be the data type of the below given variable."
   ]
  },
  {
   "cell_type": "code",
   "execution_count": 11,
   "id": "ea380a06-aaf1-47d2-a8ce-3c4ddc1ea572",
   "metadata": {},
   "outputs": [],
   "source": [
    "var1 = ' '"
   ]
  },
  {
   "cell_type": "code",
   "execution_count": 12,
   "id": "55aaee03-2719-463f-8fef-d9ce3c699430",
   "metadata": {},
   "outputs": [
    {
     "data": {
      "text/plain": [
       "str"
      ]
     },
     "execution_count": 12,
     "metadata": {},
     "output_type": "execute_result"
    }
   ],
   "source": [
    "type(var1)"
   ]
  },
  {
   "cell_type": "code",
   "execution_count": 14,
   "id": "32512b6a-5aae-48fe-a3fa-ca73b438cb86",
   "metadata": {},
   "outputs": [],
   "source": [
    "var2 = '[ DS , ML , Python]'"
   ]
  },
  {
   "cell_type": "code",
   "execution_count": 15,
   "id": "c2093f60-ef1b-453b-bfac-974cc50f6f8a",
   "metadata": {},
   "outputs": [
    {
     "data": {
      "text/plain": [
       "str"
      ]
     },
     "execution_count": 15,
     "metadata": {},
     "output_type": "execute_result"
    }
   ],
   "source": [
    "type(var2)"
   ]
  },
  {
   "cell_type": "code",
   "execution_count": 17,
   "id": "2f54008b-b1a9-4693-ae92-c4181c6079b4",
   "metadata": {},
   "outputs": [],
   "source": [
    "var3 = [ 'DS' , 'ML' , 'Python' ]"
   ]
  },
  {
   "cell_type": "code",
   "execution_count": 18,
   "id": "88e79ffb-47f7-46c5-ba97-f5c828f1764f",
   "metadata": {},
   "outputs": [
    {
     "data": {
      "text/plain": [
       "list"
      ]
     },
     "execution_count": 18,
     "metadata": {},
     "output_type": "execute_result"
    }
   ],
   "source": [
    "type(var3)"
   ]
  },
  {
   "cell_type": "code",
   "execution_count": 19,
   "id": "c0c60156-c10d-4d1a-90f8-8eb76f8e13c1",
   "metadata": {},
   "outputs": [],
   "source": [
    "var4 = 1."
   ]
  },
  {
   "cell_type": "code",
   "execution_count": 20,
   "id": "ac480ea4-27a8-426a-9aef-13e7b9d85356",
   "metadata": {},
   "outputs": [
    {
     "data": {
      "text/plain": [
       "float"
      ]
     },
     "execution_count": 20,
     "metadata": {},
     "output_type": "execute_result"
    }
   ],
   "source": [
    "type(var4)"
   ]
  },
  {
   "cell_type": "markdown",
   "id": "41cfec7d-d43d-4d5d-8e75-c92a4ce9ca00",
   "metadata": {},
   "source": [
    "### Q3. Explain the use of the following operators using an example:"
   ]
  },
  {
   "cell_type": "code",
   "execution_count": 21,
   "id": "95b3a80b-36cd-448b-8348-594b670ebe69",
   "metadata": {},
   "outputs": [
    {
     "data": {
      "text/plain": [
       "5.0"
      ]
     },
     "execution_count": 21,
     "metadata": {},
     "output_type": "execute_result"
    }
   ],
   "source": [
    "#1./ division\n",
    "15/3"
   ]
  },
  {
   "cell_type": "code",
   "execution_count": 23,
   "id": "b014312d-ef54-45b2-af71-02d6a4bf869a",
   "metadata": {},
   "outputs": [
    {
     "data": {
      "text/plain": [
       "1"
      ]
     },
     "execution_count": 23,
     "metadata": {},
     "output_type": "execute_result"
    }
   ],
   "source": [
    "#2. % modulus\n",
    "7%2 #here 1 is reminder"
   ]
  },
  {
   "cell_type": "code",
   "execution_count": 24,
   "id": "c93ade1c-3a59-4f8f-8500-14814102c704",
   "metadata": {},
   "outputs": [
    {
     "data": {
      "text/plain": [
       "3"
      ]
     },
     "execution_count": 24,
     "metadata": {},
     "output_type": "execute_result"
    }
   ],
   "source": [
    "#3. // floor diivision\n",
    "7//2"
   ]
  },
  {
   "cell_type": "code",
   "execution_count": 25,
   "id": "55bfcf4a-7290-4b1f-8014-be1f6100b4c5",
   "metadata": {},
   "outputs": [
    {
     "data": {
      "text/plain": [
       "16"
      ]
     },
     "execution_count": 25,
     "metadata": {},
     "output_type": "execute_result"
    }
   ],
   "source": [
    "#4. ** exponent(power)\n",
    "2**4"
   ]
  },
  {
   "cell_type": "markdown",
   "id": "b9daac03-2427-4c27-a45c-33fc94b6f52a",
   "metadata": {},
   "source": [
    "### Q4. Create a list of length 10 of your choice containing multiple types of data. Using for loop print the\n",
    "### element and its data type."
   ]
  },
  {
   "cell_type": "code",
   "execution_count": 26,
   "id": "07b5d7c4-17f5-4ec5-b726-8429344db13e",
   "metadata": {},
   "outputs": [],
   "source": [
    "l1 = [2,4,6,8, \"shahrukh\", 34.45, (9,10), True]"
   ]
  },
  {
   "cell_type": "code",
   "execution_count": 27,
   "id": "6a11519d-88c2-4e45-9d48-89528a936944",
   "metadata": {},
   "outputs": [
    {
     "name": "stdout",
     "output_type": "stream",
     "text": [
      "<class 'int'>\n",
      "<class 'int'>\n",
      "<class 'int'>\n",
      "<class 'int'>\n",
      "<class 'str'>\n",
      "<class 'float'>\n",
      "<class 'tuple'>\n",
      "<class 'bool'>\n"
     ]
    }
   ],
   "source": [
    "for i in l1:\n",
    "    print(type(i))"
   ]
  },
  {
   "cell_type": "code",
   "execution_count": 28,
   "id": "c0aa4d8d-3910-4180-991a-30d6255a39d0",
   "metadata": {},
   "outputs": [
    {
     "name": "stdout",
     "output_type": "stream",
     "text": [
      "2 = <class 'int'>\n",
      "4 = <class 'int'>\n",
      "6 = <class 'int'>\n",
      "8 = <class 'int'>\n",
      "shahrukh = <class 'str'>\n",
      "34.45 = <class 'float'>\n",
      "(9, 10) = <class 'tuple'>\n",
      "True = <class 'bool'>\n"
     ]
    }
   ],
   "source": [
    "for i in l1:\n",
    "    print(i, '=',type(i))"
   ]
  },
  {
   "cell_type": "markdown",
   "id": "4a4e641a-e636-4438-8693-cd25bb4d7672",
   "metadata": {},
   "source": [
    "'''\n",
    "Q5. Using a while loop, verify if the number A is purely divisible by number B and if so then how many\n",
    "times it can be divisible.\n",
    "'''"
   ]
  },
  {
   "cell_type": "code",
   "execution_count": 29,
   "id": "4d3e2e52-3b53-4d27-a13f-60fb3870118c",
   "metadata": {},
   "outputs": [
    {
     "name": "stdin",
     "output_type": "stream",
     "text": [
      "Enter the number A:  25\n",
      "Enter the number B:  5\n"
     ]
    },
    {
     "name": "stdout",
     "output_type": "stream",
     "text": [
      "1.0 can be divided by 5 2 times\n"
     ]
    }
   ],
   "source": [
    "A = int(input(\"Enter the number A: \"))\n",
    "B = int(input(\"Enter the number B: \"))\n",
    "\n",
    "n = 0  \n",
    "while A % B == 0: \n",
    "    n += 1  \n",
    "    A = A / B  \n",
    "if n > 0:\n",
    "    print(f\"{A} can be divided by {B} {n} times\")\n",
    "else:\n",
    "    print(f\"{A} is not divisible by {B}\")"
   ]
  },
  {
   "cell_type": "code",
   "execution_count": 30,
   "id": "189f9132-0f43-4794-a052-da82645e8a4d",
   "metadata": {},
   "outputs": [
    {
     "name": "stdin",
     "output_type": "stream",
     "text": [
      "Enter the number A:  25\n",
      "Enter the number B:  4\n"
     ]
    },
    {
     "name": "stdout",
     "output_type": "stream",
     "text": [
      "25 is not divisible by 4\n"
     ]
    }
   ],
   "source": [
    "A = int(input(\"Enter the number A: \"))\n",
    "B = int(input(\"Enter the number B: \"))\n",
    "\n",
    "n = 0  \n",
    "while A % B == 0: \n",
    "    n += 1  \n",
    "    A = A / B  \n",
    "if n > 0:\n",
    "    print(f\"{A} can be divided by {B} {n} times\")\n",
    "else:\n",
    "    print(f\"{A} is not divisible by {B}\")"
   ]
  },
  {
   "cell_type": "markdown",
   "id": "a69182b0-5fdf-4b8e-bbc2-9ef7f6580134",
   "metadata": {},
   "source": [
    "\n",
    "Q6. Create a list containing 25 int type data. Using for loop and if-else condition print if the element is\n",
    "divisible by 3 or not."
   ]
  },
  {
   "cell_type": "code",
   "execution_count": 44,
   "id": "a1715284-55c8-4725-a63e-f09b2f619517",
   "metadata": {},
   "outputs": [],
   "source": [
    "l2 = list(range(25))"
   ]
  },
  {
   "cell_type": "code",
   "execution_count": 45,
   "id": "978c022a-a951-4379-ae1a-7b3a04bfa903",
   "metadata": {},
   "outputs": [
    {
     "data": {
      "text/plain": [
       "[0,\n",
       " 1,\n",
       " 2,\n",
       " 3,\n",
       " 4,\n",
       " 5,\n",
       " 6,\n",
       " 7,\n",
       " 8,\n",
       " 9,\n",
       " 10,\n",
       " 11,\n",
       " 12,\n",
       " 13,\n",
       " 14,\n",
       " 15,\n",
       " 16,\n",
       " 17,\n",
       " 18,\n",
       " 19,\n",
       " 20,\n",
       " 21,\n",
       " 22,\n",
       " 23,\n",
       " 24]"
      ]
     },
     "execution_count": 45,
     "metadata": {},
     "output_type": "execute_result"
    }
   ],
   "source": [
    "l2"
   ]
  },
  {
   "cell_type": "code",
   "execution_count": 46,
   "id": "d7824b80-ea37-4f74-b40c-2c52cde73960",
   "metadata": {},
   "outputs": [
    {
     "name": "stdout",
     "output_type": "stream",
     "text": [
      "0\n",
      "not dividible by 3\n",
      "not dividible by 3\n",
      "3\n",
      "not dividible by 3\n",
      "not dividible by 3\n",
      "6\n",
      "not dividible by 3\n",
      "not dividible by 3\n",
      "9\n",
      "not dividible by 3\n",
      "not dividible by 3\n",
      "12\n",
      "not dividible by 3\n",
      "not dividible by 3\n",
      "15\n",
      "not dividible by 3\n",
      "not dividible by 3\n",
      "18\n",
      "not dividible by 3\n",
      "not dividible by 3\n",
      "21\n",
      "not dividible by 3\n",
      "not dividible by 3\n",
      "24\n"
     ]
    }
   ],
   "source": [
    "for x in l2:\n",
    "    if x%3==0:\n",
    "        print(x)\n",
    "    else:\n",
    "        print('not dividible by 3')"
   ]
  },
  {
   "cell_type": "markdown",
   "id": "ca8ae015-ccd4-4dd8-912d-3fae79969528",
   "metadata": {},
   "source": [
    "Q7. What do you understand about mutable and immutable data types? Give examples for both showing\n",
    "this property."
   ]
  },
  {
   "cell_type": "markdown",
   "id": "92ee63e5-65d8-4bb2-aed8-efa5a9ec3017",
   "metadata": {},
   "source": [
    "### Ans. \n",
    " A mutable Data type that can be changed.\n",
    "Example- list is mutable"
   ]
  },
  {
   "cell_type": "code",
   "execution_count": 47,
   "id": "97e71598-e264-4ea1-ae7d-dfe3d4bd639e",
   "metadata": {},
   "outputs": [],
   "source": [
    "l3 = [23,34,45, \"shahrukh\",]"
   ]
  },
  {
   "cell_type": "code",
   "execution_count": 48,
   "id": "43aafce4-dc47-4c44-b63f-6c2e94a1589f",
   "metadata": {},
   "outputs": [
    {
     "data": {
      "text/plain": [
       "[23, 34, 45, 'shahrukh']"
      ]
     },
     "execution_count": 48,
     "metadata": {},
     "output_type": "execute_result"
    }
   ],
   "source": [
    "l3"
   ]
  },
  {
   "cell_type": "code",
   "execution_count": 51,
   "id": "61288ce4-1071-4310-82ee-de1b124e1f67",
   "metadata": {},
   "outputs": [],
   "source": [
    "l3[2] = '55'"
   ]
  },
  {
   "cell_type": "code",
   "execution_count": 52,
   "id": "6e9428d0-e8ee-41b7-a4dc-c563bea4a219",
   "metadata": {},
   "outputs": [
    {
     "data": {
      "text/plain": [
       "[23, 34, '55', 'shahrukh']"
      ]
     },
     "execution_count": 52,
     "metadata": {},
     "output_type": "execute_result"
    }
   ],
   "source": [
    "l3"
   ]
  },
  {
   "cell_type": "markdown",
   "id": "5ad66594-5b40-42a7-a11f-793bf2bb731f",
   "metadata": {},
   "source": [
    "A Data type that can not be changed.\n",
    "Example- stinrg"
   ]
  },
  {
   "cell_type": "code",
   "execution_count": 53,
   "id": "30f6676e-5897-44d4-9273-5d1dabdd519d",
   "metadata": {},
   "outputs": [],
   "source": [
    "a = \"shahrukh\""
   ]
  },
  {
   "cell_type": "code",
   "execution_count": 54,
   "id": "092ecd55-f0ac-453a-aad0-64aa5ca5eca2",
   "metadata": {},
   "outputs": [
    {
     "data": {
      "text/plain": [
       "'shahrukh'"
      ]
     },
     "execution_count": 54,
     "metadata": {},
     "output_type": "execute_result"
    }
   ],
   "source": [
    "a"
   ]
  },
  {
   "cell_type": "code",
   "execution_count": null,
   "id": "7f8d9fef-26e1-4c07-9acb-a2add83dc0de",
   "metadata": {},
   "outputs": [],
   "source": [
    "a[3] = g"
   ]
  }
 ],
 "metadata": {
  "kernelspec": {
   "display_name": "Python 3 (ipykernel)",
   "language": "python",
   "name": "python3"
  },
  "language_info": {
   "codemirror_mode": {
    "name": "ipython",
    "version": 3
   },
   "file_extension": ".py",
   "mimetype": "text/x-python",
   "name": "python",
   "nbconvert_exporter": "python",
   "pygments_lexer": "ipython3",
   "version": "3.10.8"
  }
 },
 "nbformat": 4,
 "nbformat_minor": 5
}
